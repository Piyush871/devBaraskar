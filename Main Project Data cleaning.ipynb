{
 "cells": [
  {
   "cell_type": "markdown",
   "id": "8a02eb41",
   "metadata": {},
   "source": [
    "### Importing libraries"
   ]
  },
  {
   "cell_type": "code",
   "execution_count": 29,
   "id": "3dd20748",
   "metadata": {},
   "outputs": [],
   "source": [
    "import pandas as pd\n",
    "import numpy as np\n",
    "import seaborn as sns\n",
    "import matplotlib.pyplot as plt\n",
    "%matplotlib inline\n",
    "\n",
    "from datetime import date as dt\n",
    "from sklearn.preprocessing import StandardScaler\n",
    "from sklearn.model_selection import train_test_split\n",
    "from sklearn.decomposition import PCA\n",
    "\n",
    "from collections import Counter\n",
    "import warnings\n",
    "warnings.filterwarnings('ignore')"
   ]
  },
  {
   "cell_type": "code",
   "execution_count": 2,
   "id": "d153c86e",
   "metadata": {},
   "outputs": [],
   "source": [
    "#loading Datasets"
   ]
  },
  {
   "cell_type": "code",
   "execution_count": 3,
   "id": "554a7cc1",
   "metadata": {},
   "outputs": [],
   "source": [
    "df=pd.read_csv(r'file:///C:\\Users\\SHAKIR\\OneDrive\\Desktop\\DATASET\\companies.csv')"
   ]
  },
  {
   "cell_type": "code",
   "execution_count": 4,
   "id": "ad5fd07f",
   "metadata": {},
   "outputs": [
    {
     "data": {
      "text/html": [
       "<div>\n",
       "<style scoped>\n",
       "    .dataframe tbody tr th:only-of-type {\n",
       "        vertical-align: middle;\n",
       "    }\n",
       "\n",
       "    .dataframe tbody tr th {\n",
       "        vertical-align: top;\n",
       "    }\n",
       "\n",
       "    .dataframe thead th {\n",
       "        text-align: right;\n",
       "    }\n",
       "</style>\n",
       "<table border=\"1\" class=\"dataframe\">\n",
       "  <thead>\n",
       "    <tr style=\"text-align: right;\">\n",
       "      <th></th>\n",
       "      <th>id</th>\n",
       "      <th>Unnamed: 0.1</th>\n",
       "      <th>entity_type</th>\n",
       "      <th>entity_id</th>\n",
       "      <th>parent_id</th>\n",
       "      <th>name</th>\n",
       "      <th>normalized_name</th>\n",
       "      <th>permalink</th>\n",
       "      <th>category_code</th>\n",
       "      <th>status</th>\n",
       "      <th>...</th>\n",
       "      <th>first_milestone_at</th>\n",
       "      <th>last_milestone_at</th>\n",
       "      <th>milestones</th>\n",
       "      <th>relationships</th>\n",
       "      <th>created_by</th>\n",
       "      <th>created_at</th>\n",
       "      <th>updated_at</th>\n",
       "      <th>lat</th>\n",
       "      <th>lng</th>\n",
       "      <th>ROI</th>\n",
       "    </tr>\n",
       "  </thead>\n",
       "  <tbody>\n",
       "    <tr>\n",
       "      <th>0</th>\n",
       "      <td>c:1</td>\n",
       "      <td>0</td>\n",
       "      <td>Company</td>\n",
       "      <td>1</td>\n",
       "      <td>NaN</td>\n",
       "      <td>Wetpaint</td>\n",
       "      <td>wetpaint</td>\n",
       "      <td>/company/wetpaint</td>\n",
       "      <td>web</td>\n",
       "      <td>operating</td>\n",
       "      <td>...</td>\n",
       "      <td>05-09-2010</td>\n",
       "      <td>18-09-2013</td>\n",
       "      <td>5.0</td>\n",
       "      <td>17.0</td>\n",
       "      <td>initial-importer</td>\n",
       "      <td>25-05-2007 06:51</td>\n",
       "      <td>13-04-2013 03:29</td>\n",
       "      <td>47.606209</td>\n",
       "      <td>-122.332071</td>\n",
       "      <td>15.5</td>\n",
       "    </tr>\n",
       "    <tr>\n",
       "      <th>1</th>\n",
       "      <td>c:10</td>\n",
       "      <td>1</td>\n",
       "      <td>Company</td>\n",
       "      <td>10</td>\n",
       "      <td>NaN</td>\n",
       "      <td>Flektor</td>\n",
       "      <td>flektor</td>\n",
       "      <td>/company/flektor</td>\n",
       "      <td>games_video</td>\n",
       "      <td>acquired</td>\n",
       "      <td>...</td>\n",
       "      <td>NaN</td>\n",
       "      <td>NaN</td>\n",
       "      <td>NaN</td>\n",
       "      <td>6.0</td>\n",
       "      <td>initial-importer</td>\n",
       "      <td>31-05-2007 21:11</td>\n",
       "      <td>23-05-2008 23:23</td>\n",
       "      <td>34.021122</td>\n",
       "      <td>-118.396467</td>\n",
       "      <td>NaN</td>\n",
       "    </tr>\n",
       "    <tr>\n",
       "      <th>2</th>\n",
       "      <td>c:100</td>\n",
       "      <td>2</td>\n",
       "      <td>Company</td>\n",
       "      <td>100</td>\n",
       "      <td>NaN</td>\n",
       "      <td>There</td>\n",
       "      <td>there</td>\n",
       "      <td>/company/there</td>\n",
       "      <td>games_video</td>\n",
       "      <td>acquired</td>\n",
       "      <td>...</td>\n",
       "      <td>01-02-2003</td>\n",
       "      <td>23-09-2011</td>\n",
       "      <td>4.0</td>\n",
       "      <td>12.0</td>\n",
       "      <td>initial-importer</td>\n",
       "      <td>06-08-2007 23:52</td>\n",
       "      <td>04-11-2013 02:09</td>\n",
       "      <td>37.562992</td>\n",
       "      <td>-122.325525</td>\n",
       "      <td>NaN</td>\n",
       "    </tr>\n",
       "    <tr>\n",
       "      <th>3</th>\n",
       "      <td>c:10000</td>\n",
       "      <td>3</td>\n",
       "      <td>Company</td>\n",
       "      <td>10000</td>\n",
       "      <td>NaN</td>\n",
       "      <td>MYWEBBO</td>\n",
       "      <td>mywebbo</td>\n",
       "      <td>/company/mywebbo</td>\n",
       "      <td>network_hosting</td>\n",
       "      <td>operating</td>\n",
       "      <td>...</td>\n",
       "      <td>NaN</td>\n",
       "      <td>NaN</td>\n",
       "      <td>NaN</td>\n",
       "      <td>NaN</td>\n",
       "      <td>NaN</td>\n",
       "      <td>24-08-2008 16:51</td>\n",
       "      <td>06-09-2008 14:19</td>\n",
       "      <td>NaN</td>\n",
       "      <td>NaN</td>\n",
       "      <td>NaN</td>\n",
       "    </tr>\n",
       "    <tr>\n",
       "      <th>4</th>\n",
       "      <td>c:10001</td>\n",
       "      <td>4</td>\n",
       "      <td>Company</td>\n",
       "      <td>10001</td>\n",
       "      <td>NaN</td>\n",
       "      <td>THE Movie Streamer</td>\n",
       "      <td>the movie streamer</td>\n",
       "      <td>/company/the-movie-streamer</td>\n",
       "      <td>games_video</td>\n",
       "      <td>operating</td>\n",
       "      <td>...</td>\n",
       "      <td>NaN</td>\n",
       "      <td>NaN</td>\n",
       "      <td>NaN</td>\n",
       "      <td>NaN</td>\n",
       "      <td>NaN</td>\n",
       "      <td>24-08-2008 17:10</td>\n",
       "      <td>06-09-2008 14:19</td>\n",
       "      <td>NaN</td>\n",
       "      <td>NaN</td>\n",
       "      <td>NaN</td>\n",
       "    </tr>\n",
       "  </tbody>\n",
       "</table>\n",
       "<p>5 rows × 44 columns</p>\n",
       "</div>"
      ],
      "text/plain": [
       "        id  Unnamed: 0.1 entity_type  entity_id  parent_id  \\\n",
       "0      c:1             0     Company          1        NaN   \n",
       "1     c:10             1     Company         10        NaN   \n",
       "2    c:100             2     Company        100        NaN   \n",
       "3  c:10000             3     Company      10000        NaN   \n",
       "4  c:10001             4     Company      10001        NaN   \n",
       "\n",
       "                 name     normalized_name                    permalink  \\\n",
       "0            Wetpaint            wetpaint            /company/wetpaint   \n",
       "1             Flektor             flektor             /company/flektor   \n",
       "2               There               there               /company/there   \n",
       "3             MYWEBBO             mywebbo             /company/mywebbo   \n",
       "4  THE Movie Streamer  the movie streamer  /company/the-movie-streamer   \n",
       "\n",
       "     category_code     status  ... first_milestone_at last_milestone_at  \\\n",
       "0              web  operating  ...         05-09-2010        18-09-2013   \n",
       "1      games_video   acquired  ...                NaN               NaN   \n",
       "2      games_video   acquired  ...         01-02-2003        23-09-2011   \n",
       "3  network_hosting  operating  ...                NaN               NaN   \n",
       "4      games_video  operating  ...                NaN               NaN   \n",
       "\n",
       "  milestones relationships        created_by        created_at  \\\n",
       "0        5.0          17.0  initial-importer  25-05-2007 06:51   \n",
       "1        NaN           6.0  initial-importer  31-05-2007 21:11   \n",
       "2        4.0          12.0  initial-importer  06-08-2007 23:52   \n",
       "3        NaN           NaN               NaN  24-08-2008 16:51   \n",
       "4        NaN           NaN               NaN  24-08-2008 17:10   \n",
       "\n",
       "         updated_at        lat         lng   ROI  \n",
       "0  13-04-2013 03:29  47.606209 -122.332071  15.5  \n",
       "1  23-05-2008 23:23  34.021122 -118.396467   NaN  \n",
       "2  04-11-2013 02:09  37.562992 -122.325525   NaN  \n",
       "3  06-09-2008 14:19        NaN         NaN   NaN  \n",
       "4  06-09-2008 14:19        NaN         NaN   NaN  \n",
       "\n",
       "[5 rows x 44 columns]"
      ]
     },
     "execution_count": 4,
     "metadata": {},
     "output_type": "execute_result"
    }
   ],
   "source": [
    "df.head()"
   ]
  },
  {
   "cell_type": "code",
   "execution_count": 5,
   "id": "ddab6b6d",
   "metadata": {},
   "outputs": [
    {
     "name": "stdout",
     "output_type": "stream",
     "text": [
      "<class 'pandas.core.frame.DataFrame'>\n",
      "RangeIndex: 196553 entries, 0 to 196552\n",
      "Data columns (total 44 columns):\n",
      " #   Column               Non-Null Count   Dtype  \n",
      "---  ------               --------------   -----  \n",
      " 0   id                   196553 non-null  object \n",
      " 1   Unnamed: 0.1         196553 non-null  int64  \n",
      " 2   entity_type          196553 non-null  object \n",
      " 3   entity_id            196553 non-null  int64  \n",
      " 4   parent_id            0 non-null       float64\n",
      " 5   name                 196531 non-null  object \n",
      " 6   normalized_name      196527 non-null  object \n",
      " 7   permalink            196553 non-null  object \n",
      " 8   category_code        123186 non-null  object \n",
      " 9   status               196553 non-null  object \n",
      " 10  founded_at           91227 non-null   object \n",
      " 11  closed_at            2620 non-null    object \n",
      " 12  domain               126545 non-null  object \n",
      " 13  homepage_url         126545 non-null  object \n",
      " 14  twitter_username     80591 non-null   object \n",
      " 15  logo_url             110110 non-null  object \n",
      " 16  logo_width           110110 non-null  float64\n",
      " 17  logo_height          110110 non-null  float64\n",
      " 18  short_description    7131 non-null    object \n",
      " 19  description          92048 non-null   object \n",
      " 20  overview             126971 non-null  object \n",
      " 21  tag_list             81452 non-null   object \n",
      " 22  country_code         87990 non-null   object \n",
      " 23  state_code           50903 non-null   object \n",
      " 24  city                 83890 non-null   object \n",
      " 25  region               196553 non-null  object \n",
      " 26  first_investment_at  2583 non-null    object \n",
      " 27  last_investment_at   2583 non-null    object \n",
      " 28  investment_rounds    2591 non-null    float64\n",
      " 29  invested_companies   2591 non-null    float64\n",
      " 30  first_funding_at     31507 non-null   object \n",
      " 31  last_funding_at      31507 non-null   object \n",
      " 32  funding_rounds       31707 non-null   float64\n",
      " 33  funding_total_usd    27874 non-null   float64\n",
      " 34  first_milestone_at   91699 non-null   object \n",
      " 35  last_milestone_at    91699 non-null   object \n",
      " 36  milestones           91699 non-null   float64\n",
      " 37  relationships        129667 non-null  float64\n",
      " 38  created_by           155533 non-null  object \n",
      " 39  created_at           196553 non-null  object \n",
      " 40  updated_at           196553 non-null  object \n",
      " 41  lat                  83852 non-null   float64\n",
      " 42  lng                  83852 non-null   float64\n",
      " 43  ROI                  726 non-null     float64\n",
      "dtypes: float64(12), int64(2), object(30)\n",
      "memory usage: 66.0+ MB\n"
     ]
    }
   ],
   "source": [
    "df.info()"
   ]
  },
  {
   "cell_type": "code",
   "execution_count": 6,
   "id": "2c30d914",
   "metadata": {},
   "outputs": [
    {
     "data": {
      "text/html": [
       "<div>\n",
       "<style scoped>\n",
       "    .dataframe tbody tr th:only-of-type {\n",
       "        vertical-align: middle;\n",
       "    }\n",
       "\n",
       "    .dataframe tbody tr th {\n",
       "        vertical-align: top;\n",
       "    }\n",
       "\n",
       "    .dataframe thead th {\n",
       "        text-align: right;\n",
       "    }\n",
       "</style>\n",
       "<table border=\"1\" class=\"dataframe\">\n",
       "  <thead>\n",
       "    <tr style=\"text-align: right;\">\n",
       "      <th></th>\n",
       "      <th>Unnamed: 0.1</th>\n",
       "      <th>entity_id</th>\n",
       "      <th>parent_id</th>\n",
       "      <th>logo_width</th>\n",
       "      <th>logo_height</th>\n",
       "      <th>investment_rounds</th>\n",
       "      <th>invested_companies</th>\n",
       "      <th>funding_rounds</th>\n",
       "      <th>funding_total_usd</th>\n",
       "      <th>milestones</th>\n",
       "      <th>relationships</th>\n",
       "      <th>lat</th>\n",
       "      <th>lng</th>\n",
       "      <th>ROI</th>\n",
       "    </tr>\n",
       "  </thead>\n",
       "  <tbody>\n",
       "    <tr>\n",
       "      <th>count</th>\n",
       "      <td>196553.000000</td>\n",
       "      <td>196553.000000</td>\n",
       "      <td>0.0</td>\n",
       "      <td>110110.000000</td>\n",
       "      <td>110110.000000</td>\n",
       "      <td>2591.000000</td>\n",
       "      <td>2591.000000</td>\n",
       "      <td>31707.000000</td>\n",
       "      <td>2.787400e+04</td>\n",
       "      <td>91699.000000</td>\n",
       "      <td>129667.000000</td>\n",
       "      <td>83852.000000</td>\n",
       "      <td>83852.000000</td>\n",
       "      <td>726.000000</td>\n",
       "    </tr>\n",
       "    <tr>\n",
       "      <th>mean</th>\n",
       "      <td>98276.000000</td>\n",
       "      <td>153006.227333</td>\n",
       "      <td>NaN</td>\n",
       "      <td>459.132685</td>\n",
       "      <td>222.728917</td>\n",
       "      <td>2.372057</td>\n",
       "      <td>2.204940</td>\n",
       "      <td>1.659760</td>\n",
       "      <td>1.481652e+07</td>\n",
       "      <td>1.199402</td>\n",
       "      <td>2.852067</td>\n",
       "      <td>37.564512</td>\n",
       "      <td>-52.123066</td>\n",
       "      <td>45.745037</td>\n",
       "    </tr>\n",
       "    <tr>\n",
       "      <th>std</th>\n",
       "      <td>56740.108067</td>\n",
       "      <td>90209.250941</td>\n",
       "      <td>NaN</td>\n",
       "      <td>594.982577</td>\n",
       "      <td>333.090722</td>\n",
       "      <td>12.173510</td>\n",
       "      <td>11.436955</td>\n",
       "      <td>1.201666</td>\n",
       "      <td>6.775937e+07</td>\n",
       "      <td>0.540099</td>\n",
       "      <td>9.100309</td>\n",
       "      <td>15.477102</td>\n",
       "      <td>70.049067</td>\n",
       "      <td>572.035638</td>\n",
       "    </tr>\n",
       "    <tr>\n",
       "      <th>min</th>\n",
       "      <td>0.000000</td>\n",
       "      <td>1.000000</td>\n",
       "      <td>NaN</td>\n",
       "      <td>1.000000</td>\n",
       "      <td>1.000000</td>\n",
       "      <td>1.000000</td>\n",
       "      <td>1.000000</td>\n",
       "      <td>1.000000</td>\n",
       "      <td>2.910000e+02</td>\n",
       "      <td>1.000000</td>\n",
       "      <td>1.000000</td>\n",
       "      <td>-50.942326</td>\n",
       "      <td>-159.497746</td>\n",
       "      <td>0.011111</td>\n",
       "    </tr>\n",
       "    <tr>\n",
       "      <th>25%</th>\n",
       "      <td>49138.000000</td>\n",
       "      <td>59850.000000</td>\n",
       "      <td>NaN</td>\n",
       "      <td>192.000000</td>\n",
       "      <td>70.000000</td>\n",
       "      <td>1.000000</td>\n",
       "      <td>1.000000</td>\n",
       "      <td>1.000000</td>\n",
       "      <td>5.000000e+05</td>\n",
       "      <td>1.000000</td>\n",
       "      <td>1.000000</td>\n",
       "      <td>34.052234</td>\n",
       "      <td>-111.940005</td>\n",
       "      <td>2.648879</td>\n",
       "    </tr>\n",
       "    <tr>\n",
       "      <th>50%</th>\n",
       "      <td>98276.000000</td>\n",
       "      <td>174539.000000</td>\n",
       "      <td>NaN</td>\n",
       "      <td>267.000000</td>\n",
       "      <td>105.000000</td>\n",
       "      <td>1.000000</td>\n",
       "      <td>1.000000</td>\n",
       "      <td>1.000000</td>\n",
       "      <td>2.564500e+06</td>\n",
       "      <td>1.000000</td>\n",
       "      <td>1.000000</td>\n",
       "      <td>39.768403</td>\n",
       "      <td>-77.036871</td>\n",
       "      <td>6.500497</td>\n",
       "    </tr>\n",
       "    <tr>\n",
       "      <th>75%</th>\n",
       "      <td>147414.000000</td>\n",
       "      <td>232655.000000</td>\n",
       "      <td>NaN</td>\n",
       "      <td>484.000000</td>\n",
       "      <td>232.000000</td>\n",
       "      <td>1.000000</td>\n",
       "      <td>1.000000</td>\n",
       "      <td>2.000000</td>\n",
       "      <td>1.100000e+07</td>\n",
       "      <td>1.000000</td>\n",
       "      <td>3.000000</td>\n",
       "      <td>45.421530</td>\n",
       "      <td>-0.127758</td>\n",
       "      <td>13.549900</td>\n",
       "    </tr>\n",
       "    <tr>\n",
       "      <th>max</th>\n",
       "      <td>196552.000000</td>\n",
       "      <td>286215.000000</td>\n",
       "      <td>NaN</td>\n",
       "      <td>18200.000000</td>\n",
       "      <td>9600.000000</td>\n",
       "      <td>478.000000</td>\n",
       "      <td>459.000000</td>\n",
       "      <td>15.000000</td>\n",
       "      <td>5.700000e+09</td>\n",
       "      <td>9.000000</td>\n",
       "      <td>1189.000000</td>\n",
       "      <td>77.553604</td>\n",
       "      <td>176.212549</td>\n",
       "      <td>13333.333330</td>\n",
       "    </tr>\n",
       "  </tbody>\n",
       "</table>\n",
       "</div>"
      ],
      "text/plain": [
       "        Unnamed: 0.1      entity_id  parent_id     logo_width    logo_height  \\\n",
       "count  196553.000000  196553.000000        0.0  110110.000000  110110.000000   \n",
       "mean    98276.000000  153006.227333        NaN     459.132685     222.728917   \n",
       "std     56740.108067   90209.250941        NaN     594.982577     333.090722   \n",
       "min         0.000000       1.000000        NaN       1.000000       1.000000   \n",
       "25%     49138.000000   59850.000000        NaN     192.000000      70.000000   \n",
       "50%     98276.000000  174539.000000        NaN     267.000000     105.000000   \n",
       "75%    147414.000000  232655.000000        NaN     484.000000     232.000000   \n",
       "max    196552.000000  286215.000000        NaN   18200.000000    9600.000000   \n",
       "\n",
       "       investment_rounds  invested_companies  funding_rounds  \\\n",
       "count        2591.000000         2591.000000    31707.000000   \n",
       "mean            2.372057            2.204940        1.659760   \n",
       "std            12.173510           11.436955        1.201666   \n",
       "min             1.000000            1.000000        1.000000   \n",
       "25%             1.000000            1.000000        1.000000   \n",
       "50%             1.000000            1.000000        1.000000   \n",
       "75%             1.000000            1.000000        2.000000   \n",
       "max           478.000000          459.000000       15.000000   \n",
       "\n",
       "       funding_total_usd    milestones  relationships           lat  \\\n",
       "count       2.787400e+04  91699.000000  129667.000000  83852.000000   \n",
       "mean        1.481652e+07      1.199402       2.852067     37.564512   \n",
       "std         6.775937e+07      0.540099       9.100309     15.477102   \n",
       "min         2.910000e+02      1.000000       1.000000    -50.942326   \n",
       "25%         5.000000e+05      1.000000       1.000000     34.052234   \n",
       "50%         2.564500e+06      1.000000       1.000000     39.768403   \n",
       "75%         1.100000e+07      1.000000       3.000000     45.421530   \n",
       "max         5.700000e+09      9.000000    1189.000000     77.553604   \n",
       "\n",
       "                lng           ROI  \n",
       "count  83852.000000    726.000000  \n",
       "mean     -52.123066     45.745037  \n",
       "std       70.049067    572.035638  \n",
       "min     -159.497746      0.011111  \n",
       "25%     -111.940005      2.648879  \n",
       "50%      -77.036871      6.500497  \n",
       "75%       -0.127758     13.549900  \n",
       "max      176.212549  13333.333330  "
      ]
     },
     "execution_count": 6,
     "metadata": {},
     "output_type": "execute_result"
    }
   ],
   "source": [
    "\n",
    "df.describe()"
   ]
  },
  {
   "cell_type": "markdown",
   "id": "8b02d2ba",
   "metadata": {},
   "source": []
  },
  {
   "cell_type": "code",
   "execution_count": 7,
   "id": "4e6c29b9",
   "metadata": {},
   "outputs": [
    {
     "data": {
      "text/plain": [
       "(196553, 44)"
      ]
     },
     "execution_count": 7,
     "metadata": {},
     "output_type": "execute_result"
    }
   ],
   "source": [
    "df.shape"
   ]
  },
  {
   "cell_type": "code",
   "execution_count": 8,
   "id": "cbaaaae7",
   "metadata": {},
   "outputs": [
    {
     "data": {
      "text/plain": [
       "0"
      ]
     },
     "execution_count": 8,
     "metadata": {},
     "output_type": "execute_result"
    }
   ],
   "source": [
    "df.duplicated().sum()"
   ]
  },
  {
   "cell_type": "code",
   "execution_count": 10,
   "id": "3338bb50",
   "metadata": {},
   "outputs": [
    {
     "data": {
      "text/plain": [
       "id                          0\n",
       "Unnamed: 0.1                0\n",
       "entity_type                 0\n",
       "entity_id                   0\n",
       "parent_id              196553\n",
       "name                       22\n",
       "normalized_name            26\n",
       "permalink                   0\n",
       "category_code           73367\n",
       "status                      0\n",
       "founded_at             105326\n",
       "closed_at              193933\n",
       "domain                  70008\n",
       "homepage_url            70008\n",
       "twitter_username       115962\n",
       "logo_url                86443\n",
       "logo_width              86443\n",
       "logo_height             86443\n",
       "short_description      189422\n",
       "description            104505\n",
       "overview                69582\n",
       "tag_list               115101\n",
       "country_code           108563\n",
       "state_code             145650\n",
       "city                   112663\n",
       "region                      0\n",
       "first_investment_at    193970\n",
       "last_investment_at     193970\n",
       "investment_rounds      193962\n",
       "invested_companies     193962\n",
       "first_funding_at       165046\n",
       "last_funding_at        165046\n",
       "funding_rounds         164846\n",
       "funding_total_usd      168679\n",
       "first_milestone_at     104854\n",
       "last_milestone_at      104854\n",
       "milestones             104854\n",
       "relationships           66886\n",
       "created_by              41020\n",
       "created_at                  0\n",
       "updated_at                  0\n",
       "lat                    112701\n",
       "lng                    112701\n",
       "ROI                    195827\n",
       "dtype: int64"
      ]
     },
     "execution_count": 10,
     "metadata": {},
     "output_type": "execute_result"
    }
   ],
   "source": [
    "df.isna().sum()"
   ]
  },
  {
   "cell_type": "markdown",
   "id": "1a6f2df3",
   "metadata": {},
   "source": [
    "There are so many null values present in our dataset, there are only 9 columns with 0 null values and some of the columns are of completely null values or empty columns, also some of the columns only have few entries. So, going to drop all those unnecessary columns with all the null values and will not required in further analysis"
   ]
  },
  {
   "cell_type": "code",
   "execution_count": 12,
   "id": "7a7952bb",
   "metadata": {},
   "outputs": [
    {
     "data": {
      "text/html": [
       "<div>\n",
       "<style scoped>\n",
       "    .dataframe tbody tr th:only-of-type {\n",
       "        vertical-align: middle;\n",
       "    }\n",
       "\n",
       "    .dataframe tbody tr th {\n",
       "        vertical-align: top;\n",
       "    }\n",
       "\n",
       "    .dataframe thead th {\n",
       "        text-align: right;\n",
       "    }\n",
       "</style>\n",
       "<table border=\"1\" class=\"dataframe\">\n",
       "  <thead>\n",
       "    <tr style=\"text-align: right;\">\n",
       "      <th></th>\n",
       "      <th>entity_id</th>\n",
       "      <th>name</th>\n",
       "      <th>category_code</th>\n",
       "      <th>status</th>\n",
       "      <th>founded_at</th>\n",
       "      <th>closed_at</th>\n",
       "      <th>country_code</th>\n",
       "      <th>investment_rounds</th>\n",
       "      <th>invested_companies</th>\n",
       "      <th>funding_rounds</th>\n",
       "      <th>funding_total_usd</th>\n",
       "      <th>milestones</th>\n",
       "      <th>relationships</th>\n",
       "      <th>created_at</th>\n",
       "      <th>updated_at</th>\n",
       "      <th>ROI</th>\n",
       "    </tr>\n",
       "  </thead>\n",
       "  <tbody>\n",
       "    <tr>\n",
       "      <th>0</th>\n",
       "      <td>1</td>\n",
       "      <td>Wetpaint</td>\n",
       "      <td>web</td>\n",
       "      <td>operating</td>\n",
       "      <td>17-10-2005</td>\n",
       "      <td>NaN</td>\n",
       "      <td>USA</td>\n",
       "      <td>NaN</td>\n",
       "      <td>NaN</td>\n",
       "      <td>3.0</td>\n",
       "      <td>39750000.0</td>\n",
       "      <td>5.0</td>\n",
       "      <td>17.0</td>\n",
       "      <td>25-05-2007 06:51</td>\n",
       "      <td>13-04-2013 03:29</td>\n",
       "      <td>15.5</td>\n",
       "    </tr>\n",
       "    <tr>\n",
       "      <th>1</th>\n",
       "      <td>10</td>\n",
       "      <td>Flektor</td>\n",
       "      <td>games_video</td>\n",
       "      <td>acquired</td>\n",
       "      <td>NaN</td>\n",
       "      <td>NaN</td>\n",
       "      <td>USA</td>\n",
       "      <td>NaN</td>\n",
       "      <td>NaN</td>\n",
       "      <td>NaN</td>\n",
       "      <td>NaN</td>\n",
       "      <td>NaN</td>\n",
       "      <td>6.0</td>\n",
       "      <td>31-05-2007 21:11</td>\n",
       "      <td>23-05-2008 23:23</td>\n",
       "      <td>NaN</td>\n",
       "    </tr>\n",
       "    <tr>\n",
       "      <th>2</th>\n",
       "      <td>100</td>\n",
       "      <td>There</td>\n",
       "      <td>games_video</td>\n",
       "      <td>acquired</td>\n",
       "      <td>NaN</td>\n",
       "      <td>NaN</td>\n",
       "      <td>USA</td>\n",
       "      <td>NaN</td>\n",
       "      <td>NaN</td>\n",
       "      <td>NaN</td>\n",
       "      <td>NaN</td>\n",
       "      <td>4.0</td>\n",
       "      <td>12.0</td>\n",
       "      <td>06-08-2007 23:52</td>\n",
       "      <td>04-11-2013 02:09</td>\n",
       "      <td>NaN</td>\n",
       "    </tr>\n",
       "    <tr>\n",
       "      <th>3</th>\n",
       "      <td>10000</td>\n",
       "      <td>MYWEBBO</td>\n",
       "      <td>network_hosting</td>\n",
       "      <td>operating</td>\n",
       "      <td>26-07-2008</td>\n",
       "      <td>NaN</td>\n",
       "      <td>NaN</td>\n",
       "      <td>NaN</td>\n",
       "      <td>NaN</td>\n",
       "      <td>NaN</td>\n",
       "      <td>NaN</td>\n",
       "      <td>NaN</td>\n",
       "      <td>NaN</td>\n",
       "      <td>24-08-2008 16:51</td>\n",
       "      <td>06-09-2008 14:19</td>\n",
       "      <td>NaN</td>\n",
       "    </tr>\n",
       "    <tr>\n",
       "      <th>4</th>\n",
       "      <td>10001</td>\n",
       "      <td>THE Movie Streamer</td>\n",
       "      <td>games_video</td>\n",
       "      <td>operating</td>\n",
       "      <td>26-07-2008</td>\n",
       "      <td>NaN</td>\n",
       "      <td>NaN</td>\n",
       "      <td>NaN</td>\n",
       "      <td>NaN</td>\n",
       "      <td>NaN</td>\n",
       "      <td>NaN</td>\n",
       "      <td>NaN</td>\n",
       "      <td>NaN</td>\n",
       "      <td>24-08-2008 17:10</td>\n",
       "      <td>06-09-2008 14:19</td>\n",
       "      <td>NaN</td>\n",
       "    </tr>\n",
       "  </tbody>\n",
       "</table>\n",
       "</div>"
      ],
      "text/plain": [
       "   entity_id                name    category_code     status  founded_at  \\\n",
       "0          1            Wetpaint              web  operating  17-10-2005   \n",
       "1         10             Flektor      games_video   acquired         NaN   \n",
       "2        100               There      games_video   acquired         NaN   \n",
       "3      10000             MYWEBBO  network_hosting  operating  26-07-2008   \n",
       "4      10001  THE Movie Streamer      games_video  operating  26-07-2008   \n",
       "\n",
       "  closed_at country_code  investment_rounds  invested_companies  \\\n",
       "0       NaN          USA                NaN                 NaN   \n",
       "1       NaN          USA                NaN                 NaN   \n",
       "2       NaN          USA                NaN                 NaN   \n",
       "3       NaN          NaN                NaN                 NaN   \n",
       "4       NaN          NaN                NaN                 NaN   \n",
       "\n",
       "   funding_rounds  funding_total_usd  milestones  relationships  \\\n",
       "0             3.0         39750000.0         5.0           17.0   \n",
       "1             NaN                NaN         NaN            6.0   \n",
       "2             NaN                NaN         4.0           12.0   \n",
       "3             NaN                NaN         NaN            NaN   \n",
       "4             NaN                NaN         NaN            NaN   \n",
       "\n",
       "         created_at        updated_at   ROI  \n",
       "0  25-05-2007 06:51  13-04-2013 03:29  15.5  \n",
       "1  31-05-2007 21:11  23-05-2008 23:23   NaN  \n",
       "2  06-08-2007 23:52  04-11-2013 02:09   NaN  \n",
       "3  24-08-2008 16:51  06-09-2008 14:19   NaN  \n",
       "4  24-08-2008 17:10  06-09-2008 14:19   NaN  "
      ]
     },
     "execution_count": 12,
     "metadata": {},
     "output_type": "execute_result"
    }
   ],
   "source": [
    "data = df.drop(columns = ['id','entity_type','permalink','region','created_by','Unnamed: 0.1','normalized_name','parent_id','domain','homepage_url','logo_url','logo_width','logo_height','overview','short_description','twitter_username','short_description','description','tag_list','state_code','city','first_investment_at', 'last_investment_at','first_milestone_at','last_milestone_at',  'first_funding_at','last_funding_at','lat','lng'])\n",
    "data.head()"
   ]
  },
  {
   "cell_type": "markdown",
   "id": "f222d6f5",
   "metadata": {},
   "source": [
    "## Dropping the unwanted columns "
   ]
  },
  {
   "cell_type": "markdown",
   "id": "8eadd963",
   "metadata": {},
   "source": [
    "\n",
    "'id','Unnamed:0.1','normalized_name','parent_id','domain','homepage_url','logo_url','logo_width','logo_height','overview', 'short_description','twitter_username','description','tag_list','country_code','state_code','city','first_investment_at','last_investment_at','first_milestone_at', 'last_milestone_at','first_funding_at','last_funding_at','lat','lng'\n",
    "\n",
    "-Dropping all these columns because\n",
    "-Some columns are empty.\n",
    "-Unwanted object columns.\n",
    "-70% of Null values present in the columns.\n",
    "-Empty columns.\n",
    "-Unnecessary columns."
   ]
  },
  {
   "cell_type": "code",
   "execution_count": 13,
   "id": "dd023647",
   "metadata": {},
   "outputs": [
    {
     "data": {
      "text/plain": [
       "(196553, 16)"
      ]
     },
     "execution_count": 13,
     "metadata": {},
     "output_type": "execute_result"
    }
   ],
   "source": [
    "data.shape"
   ]
  },
  {
   "cell_type": "markdown",
   "id": "f8f243ad",
   "metadata": {},
   "source": [
    "## Dropping null values"
   ]
  },
  {
   "cell_type": "code",
   "execution_count": 14,
   "id": "d83ca5da",
   "metadata": {},
   "outputs": [
    {
     "data": {
      "text/plain": [
       "(64094, 16)"
      ]
     },
     "execution_count": 14,
     "metadata": {},
     "output_type": "execute_result"
    }
   ],
   "source": [
    "data.dropna(subset= ['name','country_code','category_code','founded_at'],inplace = True)\n",
    "data.shape"
   ]
  },
  {
   "cell_type": "markdown",
   "id": "bfb6ef91",
   "metadata": {},
   "source": [
    "## Filling the missing values "
   ]
  },
  {
   "cell_type": "markdown",
   "id": "33b4fb76",
   "metadata": {},
   "source": [
    "Filling the Investment Rounds columns with the median() method, as rounds cannot be in float datatype"
   ]
  },
  {
   "cell_type": "code",
   "execution_count": 15,
   "id": "d2c6c646",
   "metadata": {},
   "outputs": [],
   "source": [
    "data['investment_rounds'] = data['investment_rounds'].fillna(data['investment_rounds'].median())"
   ]
  },
  {
   "cell_type": "markdown",
   "id": "91d01230",
   "metadata": {},
   "source": [
    " Filling the Invested Companies columns with the median() method, as in our dataset the Invested Companies data is in integer so it cannot be in float datatype"
   ]
  },
  {
   "cell_type": "code",
   "execution_count": 16,
   "id": "d01f7456",
   "metadata": {},
   "outputs": [
    {
     "data": {
      "text/plain": [
       "1.0      460\n",
       "2.0      104\n",
       "3.0       56\n",
       "4.0       26\n",
       "5.0       23\n",
       "6.0       14\n",
       "7.0       13\n",
       "14.0       6\n",
       "16.0       5\n",
       "9.0        4\n",
       "8.0        4\n",
       "11.0       2\n",
       "10.0       2\n",
       "29.0       2\n",
       "38.0       2\n",
       "26.0       2\n",
       "18.0       2\n",
       "24.0       2\n",
       "21.0       2\n",
       "20.0       2\n",
       "57.0       1\n",
       "68.0       1\n",
       "44.0       1\n",
       "124.0      1\n",
       "12.0       1\n",
       "39.0       1\n",
       "79.0       1\n",
       "268.0      1\n",
       "30.0       1\n",
       "73.0       1\n",
       "459.0      1\n",
       "33.0       1\n",
       "13.0       1\n",
       "47.0       1\n",
       "17.0       1\n",
       "51.0       1\n",
       "Name: invested_companies, dtype: int64"
      ]
     },
     "execution_count": 16,
     "metadata": {},
     "output_type": "execute_result"
    }
   ],
   "source": [
    "data['invested_companies'].value_counts()"
   ]
  },
  {
   "cell_type": "code",
   "execution_count": 17,
   "id": "6c5adcb0",
   "metadata": {},
   "outputs": [],
   "source": [
    "data['invested_companies'] = data['invested_companies'].fillna(data['invested_companies'].median())"
   ]
  },
  {
   "cell_type": "markdown",
   "id": "8493b6ad",
   "metadata": {},
   "source": [
    "Filling the Funding Rounds columns with the median() method, as in our dataset the Funding Rounds data is in integer so it cannot be in float datatype."
   ]
  },
  {
   "cell_type": "code",
   "execution_count": 18,
   "id": "1b902d15",
   "metadata": {},
   "outputs": [
    {
     "data": {
      "text/plain": [
       "1.0     13378\n",
       "2.0      4964\n",
       "3.0      2367\n",
       "4.0      1100\n",
       "5.0       561\n",
       "6.0       239\n",
       "7.0       136\n",
       "8.0        62\n",
       "9.0        42\n",
       "10.0       22\n",
       "11.0       10\n",
       "13.0        4\n",
       "12.0        3\n",
       "15.0        2\n",
       "14.0        1\n",
       "Name: funding_rounds, dtype: int64"
      ]
     },
     "execution_count": 18,
     "metadata": {},
     "output_type": "execute_result"
    }
   ],
   "source": [
    "data['funding_rounds'].value_counts()"
   ]
  },
  {
   "cell_type": "code",
   "execution_count": 19,
   "id": "a0fc143e",
   "metadata": {},
   "outputs": [],
   "source": [
    "data['funding_rounds'] = data['funding_rounds'].fillna(data['funding_rounds'].median())"
   ]
  },
  {
   "cell_type": "markdown",
   "id": "04f33147",
   "metadata": {},
   "source": [
    "Filling the Funding Total USD columns with the mean() method, as in Funding Total USD is an int type and can be float data."
   ]
  },
  {
   "cell_type": "code",
   "execution_count": 20,
   "id": "732a7896",
   "metadata": {},
   "outputs": [],
   "source": [
    "data['funding_total_usd'] = data['funding_total_usd'].fillna(data['funding_total_usd'].mean())"
   ]
  },
  {
   "cell_type": "markdown",
   "id": "207fbf62",
   "metadata": {},
   "source": [
    "Filling the Milestones columns with the mode() method."
   ]
  },
  {
   "cell_type": "code",
   "execution_count": 21,
   "id": "7514f61e",
   "metadata": {},
   "outputs": [
    {
     "data": {
      "text/plain": [
       "1.0    24691\n",
       "2.0     7478\n",
       "3.0     2478\n",
       "4.0      458\n",
       "5.0      139\n",
       "6.0       45\n",
       "7.0        7\n",
       "8.0        3\n",
       "9.0        1\n",
       "Name: milestones, dtype: int64"
      ]
     },
     "execution_count": 21,
     "metadata": {},
     "output_type": "execute_result"
    }
   ],
   "source": [
    "data['milestones'].value_counts()"
   ]
  },
  {
   "cell_type": "code",
   "execution_count": 22,
   "id": "a17fcce4",
   "metadata": {},
   "outputs": [],
   "source": [
    "\n",
    "data['milestones'] = data['milestones'].fillna(data['milestones'].mode()[0])"
   ]
  },
  {
   "cell_type": "markdown",
   "id": "b405df34",
   "metadata": {},
   "source": [
    "Filling the Relationships columns with the mean() method."
   ]
  },
  {
   "cell_type": "code",
   "execution_count": 23,
   "id": "f6686521",
   "metadata": {},
   "outputs": [
    {
     "data": {
      "text/plain": [
       "1.0      13943\n",
       "2.0      10982\n",
       "3.0       7221\n",
       "4.0       4384\n",
       "5.0       2723\n",
       "         ...  \n",
       "183.0        1\n",
       "155.0        1\n",
       "122.0        1\n",
       "387.0        1\n",
       "67.0         1\n",
       "Name: relationships, Length: 137, dtype: int64"
      ]
     },
     "execution_count": 23,
     "metadata": {},
     "output_type": "execute_result"
    }
   ],
   "source": [
    "data['relationships'].value_counts()"
   ]
  },
  {
   "cell_type": "code",
   "execution_count": 24,
   "id": "3c9fd0ba",
   "metadata": {},
   "outputs": [],
   "source": [
    "\n",
    "data['relationships'] = data['relationships'].fillna(data['relationships'].mean())"
   ]
  },
  {
   "cell_type": "markdown",
   "id": "6ebdb3b3",
   "metadata": {},
   "source": [
    "Filling the ROI columns with the mean() method"
   ]
  },
  {
   "cell_type": "code",
   "execution_count": 25,
   "id": "70ed738b",
   "metadata": {},
   "outputs": [
    {
     "data": {
      "text/plain": [
       "10.000000    6\n",
       "15.000000    4\n",
       "16.666667    3\n",
       "3.333333     3\n",
       "5.000000     3\n",
       "            ..\n",
       "57.777778    1\n",
       "0.232143     1\n",
       "7.788945     1\n",
       "0.675219     1\n",
       "24.137931    1\n",
       "Name: ROI, Length: 504, dtype: int64"
      ]
     },
     "execution_count": 25,
     "metadata": {},
     "output_type": "execute_result"
    }
   ],
   "source": [
    "data['ROI'].value_counts()"
   ]
  },
  {
   "cell_type": "code",
   "execution_count": 26,
   "id": "7d1aa04d",
   "metadata": {},
   "outputs": [],
   "source": [
    "data['ROI'] = data['ROI'].fillna(data['ROI'].mean())"
   ]
  },
  {
   "cell_type": "markdown",
   "id": "fbfe36f0",
   "metadata": {},
   "source": [
    "# Datetime columns"
   ]
  },
  {
   "cell_type": "markdown",
   "id": "cecdd70a",
   "metadata": {},
   "source": [
    "Converting the dtype to datetime"
   ]
  },
  {
   "cell_type": "code",
   "execution_count": 38,
   "id": "824927f4",
   "metadata": {},
   "outputs": [],
   "source": [
    "data['founded_at'] = pd.to_datetime(data['founded_at'])\n",
    "data['founded_at'] = data['founded_at'].dt.year"
   ]
  },
  {
   "cell_type": "markdown",
   "id": "f4b51198",
   "metadata": {},
   "source": [
    "Filling the null values with mode()"
   ]
  },
  {
   "cell_type": "code",
   "execution_count": 39,
   "id": "ebb167ac",
   "metadata": {},
   "outputs": [],
   "source": [
    "data['founded_at'] = data['founded_at'].fillna(data['founded_at'].mode()[0])"
   ]
  },
  {
   "cell_type": "raw",
   "id": "8a435eaf",
   "metadata": {},
   "source": [
    " Converting the dtype to datetime"
   ]
  },
  {
   "cell_type": "code",
   "execution_count": 32,
   "id": "48192f95",
   "metadata": {},
   "outputs": [],
   "source": [
    "data['closed_at'] = pd.to_datetime(data['closed_at'])\n",
    "data['closed_at'] = data['closed_at'].dt.year"
   ]
  },
  {
   "cell_type": "markdown",
   "id": "d70c68dd",
   "metadata": {},
   "source": [
    "Filling the closed_at column with some condition.\n",
    "\n",
    "If Status is operating or ipo, fillna with 2021 and\n",
    "If Status is accquired or closed, fillna with mode()"
   ]
  },
  {
   "cell_type": "code",
   "execution_count": 33,
   "id": "baac4b61",
   "metadata": {},
   "outputs": [
    {
     "data": {
      "text/plain": [
       "2012.0"
      ]
     },
     "execution_count": 33,
     "metadata": {},
     "output_type": "execute_result"
    }
   ],
   "source": [
    "data['closed_at'].mode()[0]"
   ]
  },
  {
   "cell_type": "code",
   "execution_count": 34,
   "id": "ccd9748d",
   "metadata": {},
   "outputs": [],
   "source": [
    "for i in data['status']:\n",
    "    if (i == 'operating' or 'ipo'):\n",
    "        data['closed_at'].fillna(2021,inplace = True)\n",
    "    elif (i == 'accquired' or 'closed'):\n",
    "        data['closed_at'].fillna(2012, inplace = True)"
   ]
  },
  {
   "cell_type": "markdown",
   "id": "320b03a6",
   "metadata": {},
   "source": [
    "### Updating the date columns and taking only year from it "
   ]
  },
  {
   "cell_type": "code",
   "execution_count": 40,
   "id": "dbcce163",
   "metadata": {},
   "outputs": [],
   "source": [
    "created = []\n",
    "for i in data['created_at']:\n",
    "    created.append(i.split('-')[0])\n",
    "data['created_at']= created"
   ]
  },
  {
   "cell_type": "code",
   "execution_count": 41,
   "id": "b45b65b6",
   "metadata": {},
   "outputs": [],
   "source": [
    "created = []\n",
    "for i in data['updated_at']:\n",
    "    created.append(int(i.split('-')[0]))\n",
    "data['updated_at']= created"
   ]
  },
  {
   "cell_type": "markdown",
   "id": "8b368b17",
   "metadata": {},
   "source": [
    "### Adding new updated columns "
   ]
  },
  {
   "cell_type": "markdown",
   "id": "01b91a82",
   "metadata": {},
   "source": [
    "Adding Companies Age(in years), by subtracting founded at from closed at columns"
   ]
  },
  {
   "cell_type": "code",
   "execution_count": 42,
   "id": "cbb6fa22",
   "metadata": {},
   "outputs": [],
   "source": [
    "data['companies_age'] = data['closed_at'] - data['founded_at']"
   ]
  },
  {
   "cell_type": "markdown",
   "id": "89d5c206",
   "metadata": {},
   "source": [
    "After substraction, some of the entries will be negative value, so will remove negative value"
   ]
  },
  {
   "cell_type": "code",
   "execution_count": 43,
   "id": "6e146226",
   "metadata": {},
   "outputs": [],
   "source": [
    "index = np.where(data['companies_age'] < 0)\n",
    "data['companies_age'] = data['companies_age'].drop(data['companies_age'].index[index])"
   ]
  },
  {
   "cell_type": "code",
   "execution_count": 44,
   "id": "899c1de4",
   "metadata": {},
   "outputs": [],
   "source": [
    "data['companies_age'] = data['companies_age'].fillna(0)"
   ]
  },
  {
   "cell_type": "code",
   "execution_count": 45,
   "id": "f7a06b3b",
   "metadata": {},
   "outputs": [
    {
     "data": {
      "text/html": [
       "<div>\n",
       "<style scoped>\n",
       "    .dataframe tbody tr th:only-of-type {\n",
       "        vertical-align: middle;\n",
       "    }\n",
       "\n",
       "    .dataframe tbody tr th {\n",
       "        vertical-align: top;\n",
       "    }\n",
       "\n",
       "    .dataframe thead th {\n",
       "        text-align: right;\n",
       "    }\n",
       "</style>\n",
       "<table border=\"1\" class=\"dataframe\">\n",
       "  <thead>\n",
       "    <tr style=\"text-align: right;\">\n",
       "      <th></th>\n",
       "      <th>entity_id</th>\n",
       "      <th>name</th>\n",
       "      <th>category_code</th>\n",
       "      <th>status</th>\n",
       "      <th>founded_at</th>\n",
       "      <th>closed_at</th>\n",
       "      <th>country_code</th>\n",
       "      <th>investment_rounds</th>\n",
       "      <th>invested_companies</th>\n",
       "      <th>funding_rounds</th>\n",
       "      <th>funding_total_usd</th>\n",
       "      <th>milestones</th>\n",
       "      <th>relationships</th>\n",
       "      <th>created_at</th>\n",
       "      <th>updated_at</th>\n",
       "      <th>ROI</th>\n",
       "      <th>companies_age</th>\n",
       "    </tr>\n",
       "  </thead>\n",
       "  <tbody>\n",
       "    <tr>\n",
       "      <th>0</th>\n",
       "      <td>1</td>\n",
       "      <td>Wetpaint</td>\n",
       "      <td>web</td>\n",
       "      <td>operating</td>\n",
       "      <td>1970</td>\n",
       "      <td>1970</td>\n",
       "      <td>USA</td>\n",
       "      <td>1.0</td>\n",
       "      <td>1.0</td>\n",
       "      <td>3.0</td>\n",
       "      <td>3.975000e+07</td>\n",
       "      <td>5.0</td>\n",
       "      <td>17.00000</td>\n",
       "      <td>25</td>\n",
       "      <td>13</td>\n",
       "      <td>15.50000</td>\n",
       "      <td>0</td>\n",
       "    </tr>\n",
       "    <tr>\n",
       "      <th>5</th>\n",
       "      <td>10002</td>\n",
       "      <td>Synergie Media</td>\n",
       "      <td>advertising</td>\n",
       "      <td>operating</td>\n",
       "      <td>1970</td>\n",
       "      <td>1970</td>\n",
       "      <td>MAR</td>\n",
       "      <td>1.0</td>\n",
       "      <td>1.0</td>\n",
       "      <td>1.0</td>\n",
       "      <td>1.581978e+07</td>\n",
       "      <td>1.0</td>\n",
       "      <td>2.00000</td>\n",
       "      <td>24</td>\n",
       "      <td>6</td>\n",
       "      <td>14.41045</td>\n",
       "      <td>0</td>\n",
       "    </tr>\n",
       "    <tr>\n",
       "      <th>6</th>\n",
       "      <td>10003</td>\n",
       "      <td>Green Basti Ecosystems</td>\n",
       "      <td>cleantech</td>\n",
       "      <td>operating</td>\n",
       "      <td>1970</td>\n",
       "      <td>1970</td>\n",
       "      <td>IND</td>\n",
       "      <td>1.0</td>\n",
       "      <td>1.0</td>\n",
       "      <td>1.0</td>\n",
       "      <td>1.581978e+07</td>\n",
       "      <td>1.0</td>\n",
       "      <td>4.43465</td>\n",
       "      <td>24</td>\n",
       "      <td>22</td>\n",
       "      <td>14.41045</td>\n",
       "      <td>0</td>\n",
       "    </tr>\n",
       "    <tr>\n",
       "      <th>12</th>\n",
       "      <td>10009</td>\n",
       "      <td>dimension5 labs</td>\n",
       "      <td>advertising</td>\n",
       "      <td>operating</td>\n",
       "      <td>1970</td>\n",
       "      <td>1970</td>\n",
       "      <td>USA</td>\n",
       "      <td>1.0</td>\n",
       "      <td>1.0</td>\n",
       "      <td>1.0</td>\n",
       "      <td>1.581978e+07</td>\n",
       "      <td>1.0</td>\n",
       "      <td>2.00000</td>\n",
       "      <td>24</td>\n",
       "      <td>21</td>\n",
       "      <td>14.41045</td>\n",
       "      <td>0</td>\n",
       "    </tr>\n",
       "    <tr>\n",
       "      <th>13</th>\n",
       "      <td>1001</td>\n",
       "      <td>FriendFeed</td>\n",
       "      <td>web</td>\n",
       "      <td>acquired</td>\n",
       "      <td>1970</td>\n",
       "      <td>1970</td>\n",
       "      <td>USA</td>\n",
       "      <td>1.0</td>\n",
       "      <td>1.0</td>\n",
       "      <td>1.0</td>\n",
       "      <td>5.000000e+06</td>\n",
       "      <td>3.0</td>\n",
       "      <td>14.00000</td>\n",
       "      <td>01</td>\n",
       "      <td>13</td>\n",
       "      <td>9.50000</td>\n",
       "      <td>0</td>\n",
       "    </tr>\n",
       "  </tbody>\n",
       "</table>\n",
       "</div>"
      ],
      "text/plain": [
       "    entity_id                    name category_code     status  founded_at  \\\n",
       "0           1                Wetpaint           web  operating        1970   \n",
       "5       10002          Synergie Media   advertising  operating        1970   \n",
       "6       10003  Green Basti Ecosystems     cleantech  operating        1970   \n",
       "12      10009         dimension5 labs   advertising  operating        1970   \n",
       "13       1001              FriendFeed           web   acquired        1970   \n",
       "\n",
       "    closed_at country_code  investment_rounds  invested_companies  \\\n",
       "0        1970          USA                1.0                 1.0   \n",
       "5        1970          MAR                1.0                 1.0   \n",
       "6        1970          IND                1.0                 1.0   \n",
       "12       1970          USA                1.0                 1.0   \n",
       "13       1970          USA                1.0                 1.0   \n",
       "\n",
       "    funding_rounds  funding_total_usd  milestones  relationships created_at  \\\n",
       "0              3.0       3.975000e+07         5.0       17.00000         25   \n",
       "5              1.0       1.581978e+07         1.0        2.00000         24   \n",
       "6              1.0       1.581978e+07         1.0        4.43465         24   \n",
       "12             1.0       1.581978e+07         1.0        2.00000         24   \n",
       "13             1.0       5.000000e+06         3.0       14.00000         01   \n",
       "\n",
       "    updated_at       ROI  companies_age  \n",
       "0           13  15.50000              0  \n",
       "5            6  14.41045              0  \n",
       "6           22  14.41045              0  \n",
       "12          21  14.41045              0  \n",
       "13          13   9.50000              0  "
      ]
     },
     "execution_count": 45,
     "metadata": {},
     "output_type": "execute_result"
    }
   ],
   "source": [
    "data.head()"
   ]
  },
  {
   "cell_type": "code",
   "execution_count": 46,
   "id": "a5d63cbd",
   "metadata": {},
   "outputs": [
    {
     "data": {
      "text/plain": [
       "entity_id             0\n",
       "name                  0\n",
       "category_code         0\n",
       "status                0\n",
       "founded_at            0\n",
       "closed_at             0\n",
       "country_code          0\n",
       "investment_rounds     0\n",
       "invested_companies    0\n",
       "funding_rounds        0\n",
       "funding_total_usd     0\n",
       "milestones            0\n",
       "relationships         0\n",
       "created_at            0\n",
       "updated_at            0\n",
       "ROI                   0\n",
       "companies_age         0\n",
       "dtype: int64"
      ]
     },
     "execution_count": 46,
     "metadata": {},
     "output_type": "execute_result"
    }
   ],
   "source": [
    "data.isna().sum()"
   ]
  },
  {
   "cell_type": "code",
   "execution_count": 47,
   "id": "2e5b6dc0",
   "metadata": {},
   "outputs": [],
   "source": [
    "data.reset_index(inplace = True)"
   ]
  },
  {
   "cell_type": "code",
   "execution_count": 48,
   "id": "b54e59d2",
   "metadata": {},
   "outputs": [
    {
     "data": {
      "text/plain": [
       "(64094, 18)"
      ]
     },
     "execution_count": 48,
     "metadata": {},
     "output_type": "execute_result"
    }
   ],
   "source": [
    "data.shape"
   ]
  },
  {
   "cell_type": "markdown",
   "id": "ebdab593",
   "metadata": {},
   "source": [
    "## Encoding "
   ]
  },
  {
   "cell_type": "markdown",
   "id": "26812727",
   "metadata": {},
   "source": []
  },
  {
   "cell_type": "markdown",
   "id": "073982f6",
   "metadata": {},
   "source": [
    "Assuming Categorical columns are to be encoded"
   ]
  },
  {
   "cell_type": "markdown",
   "id": "2c694c79",
   "metadata": {},
   "source": [
    "### Encoding "
   ]
  },
  {
   "cell_type": "code",
   "execution_count": 55,
   "id": "cd11ce6b",
   "metadata": {},
   "outputs": [],
   "source": [
    "from sklearn.preprocessing import LabelEncoder\n",
    "label_encoder = LabelEncoder()\n",
    "data['encoded_column'] = label_encoder.fit_transform(data['status'])"
   ]
  },
  {
   "cell_type": "code",
   "execution_count": 56,
   "id": "f24019f9",
   "metadata": {},
   "outputs": [
    {
     "name": "stdout",
     "output_type": "stream",
     "text": [
      "Label Mapping: {'acquired': 0, 'closed': 1, 'ipo': 2, 'operating': 3}\n"
     ]
    }
   ],
   "source": [
    "from sklearn.preprocessing import LabelEncoder\n",
    "\n",
    "# Assuming 'df' is your DataFrame\n",
    "label_encoder = LabelEncoder()\n",
    "data['label'] = label_encoder.fit_transform(data['status'])\n",
    "\n",
    "# Display the mapping between original values and encoded values\n",
    "label_mapping = dict(zip(label_encoder.classes_, label_encoder.transform(label_encoder.classes_)))\n",
    "print(\"Label Mapping:\", label_mapping)\n"
   ]
  },
  {
   "cell_type": "markdown",
   "id": "d2fabc9d",
   "metadata": {},
   "source": [
    "### Data Labelling "
   ]
  },
  {
   "cell_type": "markdown",
   "id": "c4a957ac",
   "metadata": {},
   "source": [
    "Assuming the target variable is 'status' with values 'Operating', 'IPO', 'Acquired', 'Closed'\n",
    " Map the labels to numerical values\n",
    "\n"
   ]
  },
  {
   "cell_type": "code",
   "execution_count": 57,
   "id": "5699013a",
   "metadata": {},
   "outputs": [
    {
     "data": {
      "text/plain": [
       "0         3\n",
       "1         0\n",
       "2         0\n",
       "3         3\n",
       "4         3\n",
       "         ..\n",
       "196548    3\n",
       "196549    3\n",
       "196550    3\n",
       "196551    3\n",
       "196552    3\n",
       "Name: label, Length: 196553, dtype: int64"
      ]
     },
     "execution_count": 57,
     "metadata": {},
     "output_type": "execute_result"
    }
   ],
   "source": [
    "label_mapping = {'acquired': 0, 'closed': 1, 'ipo': 2, 'operating': 3}\n",
    "df['label'] = df['status'].map(label_mapping)\n",
    "df['label']"
   ]
  },
  {
   "cell_type": "code",
   "execution_count": 58,
   "id": "258a87f7",
   "metadata": {},
   "outputs": [
    {
     "name": "stdout",
     "output_type": "stream",
     "text": [
      "           milestones  relationships\n",
      "status                              \n",
      "acquired     1.589231       6.746131\n",
      "closed       1.324739       3.563485\n",
      "ipo          2.135621      33.906004\n",
      "operating    1.192190       3.992358\n"
     ]
    }
   ],
   "source": [
    "aggregated_group = data.groupby('status')[['milestones', 'relationships']].mean()\n",
    "print(aggregated_group)"
   ]
  },
  {
   "cell_type": "code",
   "execution_count": 60,
   "id": "dafe7318",
   "metadata": {},
   "outputs": [
    {
     "name": "stdout",
     "output_type": "stream",
     "text": [
      "category_code  advertising  analytics  automotive   biotech  cleantech  \\\n",
      "status                                                                   \n",
      "acquired          1.008929        1.0         1.0  1.008163   1.000000   \n",
      "closed            1.000000        1.0         1.0  1.000000   1.000000   \n",
      "ipo               1.150000        1.0         1.0  1.550000   1.259259   \n",
      "operating         1.002306        1.0         1.0  1.010309   1.007964   \n",
      "\n",
      "category_code  consulting  design  ecommerce  education  enterprise  ...  \\\n",
      "status                                                               ...   \n",
      "acquired         1.000000     1.0   1.018519   1.000000    1.008163  ...   \n",
      "closed           1.000000     1.0   1.000000   1.000000    1.000000  ...   \n",
      "ipo              1.166667     NaN   2.421053   1.000000    2.781250  ...   \n",
      "operating        1.024781     1.0   1.001682   1.003416    1.015536  ...   \n",
      "\n",
      "category_code  real_estate    search  security  semiconductor    social  \\\n",
      "status                                                                    \n",
      "acquired               1.0  1.000000       1.0       1.010000  1.000000   \n",
      "closed                 1.0  1.000000       1.0       1.000000  1.000000   \n",
      "ipo                    1.0  6.833333       2.6       2.571429  1.500000   \n",
      "operating              1.0  1.000000       1.0       1.006309  1.151274   \n",
      "\n",
      "category_code  software  sports  transportation  travel       web  \n",
      "status                                                             \n",
      "acquired       1.011677     1.0            1.25     1.0  1.020484  \n",
      "closed         1.000000     1.0            1.00     1.0  1.000000  \n",
      "ipo            1.866667     NaN            1.00     1.0  2.545455  \n",
      "operating      1.007816     1.0            1.00     1.0  1.008032  \n",
      "\n",
      "[4 rows x 42 columns]\n"
     ]
    }
   ],
   "source": [
    "pivot_table = data.pivot_table(index='status', columns='category_code', values='investment_rounds', aggfunc='mean')\n",
    "print(pivot_table)"
   ]
  },
  {
   "cell_type": "code",
   "execution_count": 61,
   "id": "5f9b9bf9",
   "metadata": {},
   "outputs": [
    {
     "name": "stdout",
     "output_type": "stream",
     "text": [
      "Average value of software for IPO companies: 1.8666666666666667\n"
     ]
    }
   ],
   "source": [
    "avg_software_for_ipo = pivot_table.loc['ipo', 'software']\n",
    "print(\"Average value of software for IPO companies:\", avg_software_for_ipo)"
   ]
  },
  {
   "cell_type": "code",
   "execution_count": 62,
   "id": "20ec8699",
   "metadata": {},
   "outputs": [
    {
     "name": "stdout",
     "output_type": "stream",
     "text": [
      "Category with average value for acquired companies: analytics\n"
     ]
    }
   ],
   "source": [
    "lowest_avg_category_acquired = pivot_table.loc['acquired'].idxmin()\n",
    "print(\"Category with average value for acquired companies:\", lowest_avg_category_acquired)"
   ]
  },
  {
   "cell_type": "code",
   "execution_count": 63,
   "id": "681f3810",
   "metadata": {},
   "outputs": [
    {
     "name": "stdout",
     "output_type": "stream",
     "text": [
      "Total average value of all categories for operating companies: 1.0550325996182535\n"
     ]
    }
   ],
   "source": [
    "total_avg_value_operating = pivot_table.loc['operating'].mean()\n",
    "print(\"Total average value of all categories for operating companies:\", total_avg_value_operating)"
   ]
  },
  {
   "cell_type": "code",
   "execution_count": 64,
   "id": "1ab8bb2e",
   "metadata": {},
   "outputs": [
    {
     "name": "stdout",
     "output_type": "stream",
     "text": [
      "Total number of companies in the 'software' category: 4.886160265605406\n"
     ]
    }
   ],
   "source": [
    "total_companies_software = pivot_table['software'].sum()\n",
    "print(\"Total number of companies in the 'software' category:\", total_companies_software)"
   ]
  },
  {
   "cell_type": "code",
   "execution_count": null,
   "id": "dd0b904b",
   "metadata": {},
   "outputs": [],
   "source": []
  }
 ],
 "metadata": {
  "kernelspec": {
   "display_name": "Python 3 (ipykernel)",
   "language": "python",
   "name": "python3"
  },
  "language_info": {
   "codemirror_mode": {
    "name": "ipython",
    "version": 3
   },
   "file_extension": ".py",
   "mimetype": "text/x-python",
   "name": "python",
   "nbconvert_exporter": "python",
   "pygments_lexer": "ipython3",
   "version": "3.9.13"
  }
 },
 "nbformat": 4,
 "nbformat_minor": 5
}
